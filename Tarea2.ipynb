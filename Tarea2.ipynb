{
 "cells": [
  {
   "cell_type": "markdown",
   "source": [
    "# Tarea 2: Métodos Numéricos y Algoritmos Computacionales\r\n",
    "\r\n",
    "**Integrantes:**\r\n",
    "* dsgg\r\n",
    "* López Merino Marcos\r\n",
    "* asdf"
   ],
   "metadata": {}
  },
  {
   "cell_type": "markdown",
   "source": [
    "## Problemas generales"
   ],
   "metadata": {}
  },
  {
   "cell_type": "markdown",
   "source": [
    "### Pregunta 1. \n",
    "Un carpintero está acomodando sus tablas que tiene en su taller. Por alguna extraña razón, quiere arreglarlas de las más pequeña a la más grande tal que cada tabla sea más grande que la anterios por exactamente $1$ unidad (arbitraria). Es posible que para cumplir su cometido, el carpintero necesite agregar tablas adicionales. Haz una función que calcule el número mínimo de tablas que el necesitará.\n",
    "\n",
    "#### Ejemplo\n",
    "Para un arreglo de tablas $tablas = [7, 3, 4, 9]$, el resultado de la función debería de ser $3$, ya que él necesitaría tablas de tamaños $5,\\, 6\\,\\text{y}\\, 8$.\n",
    "\n",
    "#### Reglas \n",
    "* No pueden usar paquetes.\n",
    "* Los elementos del arreglo de entrada solo serán números entero positivos.\n",
    "* El arreglo de entrada puede contener de $1$ a $10$ elementos.\n",
    "* Un elemento del arreglo de entrada puede medir de $0$ a $20$ unidades.\n",
    "* La salida de la función solo debe de ser un número entero."
   ],
   "metadata": {}
  },
  {
   "cell_type": "markdown",
   "source": [
    "### Pregunta 2.\r\n",
    "Ddas dos _strings_, hacer una función que encuentre el número de caractares en común.\r\n",
    "\r\n",
    "#### Ejemplo\r\n",
    "Sea $s1 = 'ccell'$ y $s2 = 'czlcc'$, la salida de la función debería ser $3$, ya que dos _c_ y _l_ en común.\r\n",
    "\r\n",
    "#### Reglas\r\n",
    "* No pueden usar paquetes.\r\n",
    "* Las _strings_ de entrada solo contendran letras en minúsculas sin incluir la _ñ_.\r\n",
    "* Las _strings_ de entrada solo podrán tener de $1$ a $15$ caracteres.\r\n",
    "* La salida solo será un entero."
   ],
   "metadata": {}
  },
  {
   "cell_type": "markdown",
   "source": [
    "### Pregunta 3. \n",
    "Cierto dueño superticioso de una cafetería aborda todos los días el transporte público para ir a su negocio (todo esto antes de la pandemia) Cada vez que aborda cierto transporte público, el hombre recibe un boleto con un número de serie. Él considera que tendrá un buen día si la suma de la primera mitad de los dígitos del número de serie es igual a la suma de los dígitos de la segunda mitad. Dado un número de serie $n$, hacer una función que le diga si tendrá un buen día o no.\n",
    "\n",
    "#### Ejemplo\n",
    "Si el número de series es $n = 2341$, entonces la función debería regresar _True_. Para el número de serie $n = 248028$ la función debería de regresar _False_.\n",
    "\n",
    "#### Reglas\n",
    "* No pueden usar paquetes.\n",
    "* El entero que se dará a la funcón será un número positivo con un número par de dígitos.\n",
    "* El entero de entrada podrá tomar un valor mínimo de $10$ y un valor máximo de $10^{6}$.\n",
    "* La salida del programa debe de ser un booleano: _True_ o _False_.\n"
   ],
   "metadata": {}
  },
  {
   "cell_type": "markdown",
   "source": [
    "### Pregunta 4.\r\n",
    "Una señora gusta de coleccionar tarros de galletas. Al organizar sus tarros por tamaño en vitrina de exhibición, se da cuenta que hay algunos lugares que no puede ocupar dado que la madera de esos entrepaños está en mal estado y sus tarros podrían caerse (dado que ha gasto mucho dinero en los tarros, no puede comprar un nuevo mueble). Haz una función que ordene los tarros sin que ocupen los entrepaños en mal estado.\r\n",
    "\r\n",
    "#### Ejemplo\r\n",
    "Para un arreglo de entrada $tarros = [-1, 15, 19, 17, -1, -1, 16, 18]$, la salida del programa debería de ser $tarros = [-1, 15, 16, 17, -1, -1, 18, 19]$.\r\n",
    "\r\n",
    "#### Reglas \r\n",
    "* No pueden usar paquetes.\r\n",
    "* Los entrepaños dañados son representados con un $-1$, por lo que esos elementos no se pueden mover de posición en el arreglo de entrada. Todos los demás números serán positivos y representarán la altura de los tarros de galletas en una unidad arbitraria.\r\n",
    "* Los tarros pueden medir de $0$ a $100$. Un cero representa que ahí no pondrá ningún tarro.\r\n",
    "* El arregl de entrada puede contener de $1$ a $100$ elementos.\r\n",
    "* La salida debe ser un arreglo con los $-1$ _intactos_ y los tarros acomodados por altura, del más chico al más grande."
   ],
   "metadata": {}
  },
  {
   "cell_type": "markdown",
   "source": [
    "### Pregunta 5 \r\n",
    "Dada una _string_, hacer una función que escriba al revés las palabras que estén dentro de paréntesis. Puede haber paréntesis dentro de paréntesis.\r\n",
    "\r\n",
    "#### Ejemplos\r\n",
    "* Para $'(cap)'$, la salida de la función debe de ser $'pac'$.\r\n",
    "* Para $'lol(cap)rap'$, la salida de la función debe de ser $lolpacrap$.\r\n",
    "* Para $'lol(cap)rap(tam)'$, la salida de la función debe de ser $'lolpacrapmat'$.\r\n",
    "* Para $'lol(cap(rap))tam'$, la salida de la función debe de ser $'lolrappactam'$. Esto se debe a que $'lol(cap(rap))tam'$ se transforma a $'lol(cappar)tam'$ y esto se transforma en $'lolrappactam'$.\r\n",
    "\r\n",
    "#### Reglas\r\n",
    "* No pueden usar paquetes.\r\n",
    "* La _string_ de entrada solo tendrá letras en minúsculas sin incluir la _ñ_.\r\n",
    "* Todos los paréntesis tendrán su pareja correspondiente.\r\n",
    "* La _string_ de entrada podrá estar vacía. Por el contrario, podrá contener hasta $50$ caracteres.\r\n",
    "* La salida de la función debe ser la _string_ transformada."
   ],
   "metadata": {}
  },
  {
   "cell_type": "markdown",
   "source": [
    "### Pregunta 6\r\n",
    "Dada una _string_ que contiene espacios, hacer una función que sustituya los espacios por guiones medios.\r\n",
    "\r\n",
    "#### Ejemplo \r\n",
    "Dada la _string_ $s1 = 'esto\\, es\\, una\\, string'$, la salida de la función debe de ser $'esto\\text{-}es\\text{-}una\\text{-}string'$.\r\n",
    "\r\n",
    "#### Reglas \r\n",
    "* No pueden usar paquetes.\r\n",
    "* La _string_ de entrada contendrá espacios y podrá contener de $1$ a $10$ palabras separadas por espacios.\r\n",
    "* La salida de la función debe de ser la string transformada."
   ],
   "metadata": {}
  },
  {
   "cell_type": "markdown",
   "source": [
    "### Pregunta 7.\r\n",
    "Dada una _string_, hacer una función que nos indique si contiene caracteres alfa-numéricos, caractéres alfabéticos, dígitos, minúsculas y mayúsculas.\r\n",
    "\r\n",
    "#### Ejemplo\r\n",
    "Para la _string_ $s1 = 'qA2'$, la salidad debe de ser: <br>\r\n",
    "_True_ <br>\r\n",
    "_True_ <br>\r\n",
    "_True_ <br>\r\n",
    "_True_ <br>\r\n",
    "_True_ \r\n",
    "\r\n",
    "#### Reglas\r\n",
    "* No pueden usar paquetes.\r\n",
    "* La _string_ de entrada puede contener cualquier símbolo alfanumérico así como símbolos especiales.\r\n",
    "* La _string_ de entrada puede ser vacía.\r\n",
    "* La _string_ de entrada puede contener hasta $100$ caracteres.\r\n",
    "* La función no debe de regresar nada, pero si debe imprimir _True_ o _False_ de acuerdo a lo siguiente: <br>\r\n",
    "    * La primera línea debe indicar si en la _string_ de entrada hay caracteres alfanuméricos.\r\n",
    "    * La segunda línea debe indicar si en la _string_ de entrada hay caracteres alfabéticos.\r\n",
    "    * La tercera línea debe indicar si en la _string_ de entrada hay digitos numéricos.\r\n",
    "    * La cuarta línea debe indicar si en la _string_ de entrada hay caracteres en minúscula.\r\n",
    "    * La quinta línea debe indicar si en la _string_ de entrada hay caracteres en mayúscula."
   ],
   "metadata": {}
  },
  {
   "cell_type": "markdown",
   "source": [
    "### Pregunta 8. \n",
    "Cierta alumna del curso quiere recompersarse a sí misma después de acabar la tarea 2 de MNyAC ordenando algo para cenar. Abre la única[<sup id=\"fn1-back\">1</sup>](#fn1)  aplicación de _delivery_ (ya que estamos en pandemia) y empieza a escoger lo que será su cena. En su restaurante favorito hay solamente siete platillos, cuyos precios son: $7$, $27$, $41$, $49$, $63$, $78$ y $108$ en una moneda arbitraria.\n",
    "Por suerte, nuestra querida alumna tiene tres cupones:\n",
    "* Cuando el precio del pedido alcance un total de $69$, ella recibirá un descuento de $15$.\n",
    "* Cuando el precio del pedido alcance un total de $89$, ella recibirá un descuento de $30$.\n",
    "* Cuando el precio del pedido alcance un total de $120$, ella recibirá un descuento de $50$.\n",
    "\n",
    "Pero, ella solo puede usar un cupón a la vez y cada cupón solo puede ser usado una vez. Desgraciadamente, la app siempre escoge el mejor cupón dependiendo de la orden. Por ejemplo, si el precio es de $300$, automáticamente tendrá que pagar solamente $250$. Si ella ordena $n$ platillos, tal que $P_{1}, P_{2}, P_{3}, \\cdots, P_{n}$, ella quiere saber cuánto gastará en su cena.<br>\n",
    "Hagamos una función que ayude a nuestra compañera a decidir que comida pedir. La alumna desea probar combinaciones antes de decidir, además ella desea hacer su programa interactivo, por lo que el único parámetro que debe de recibir la función será el número $C$ de combinaciones que ella quiere probar. Para cada caso a probar, la función debe de pedir dos cosas (en líneas diferentes):<br>\n",
    "1. El número $n$ de platillos, y,<br>\n",
    "2. que platillos ($P_{1}, P_{2}, P_{3}, \\cdots, P_{n}$) desea.\n",
    "\n",
    "La función no debe regresar nada, pero si debe imprimir, para cada caso, cuánto dinero gastaría la alumna.\n",
    "\n",
    "#### Ejemplo\n",
    "Si la función recibe $C = 5$, la entrada podría verse algo así:<br>\n",
    "$2$ <br>\n",
    "$2\\, 3$ <br>\n",
    "$3$ <br>\n",
    "$2\\, 3\\, 4$ <br>\n",
    "$6$ <br>\n",
    "$1\\, 1\\, 4\\, 5\\, 1\\, 4$ <br>\n",
    "$1$ <br>\n",
    "$1$ <br>\n",
    "$7$ <br>\n",
    "$7\\, 7\\, 7\\, 7\\, 7\\, 7 \\,7$ <br>\n",
    "Y la salida sería: <br>\n",
    "$68$ <br>\n",
    "$87$ <br>\n",
    "$132$ <br>\n",
    "$7$ <br>\n",
    "$706$ \n",
    "\n",
    "En este caso, se debe de usar la función _input()_ y, como casi todos los ejercicios de esta sección, no pueden usar paquetes.\n",
    "\n",
    "[<sup id=\"fn1\">1</sup>](#fn1-back) Solo hay una ya que hubo una guerra de apps de _delivery_ y al final todas se unieron."
   ],
   "metadata": {}
  },
  {
   "cell_type": "markdown",
   "source": [
    "## Problemas de graficación\n",
    "\n",
    "#### Instrucciones:\n",
    "En esta sección, todas las gráficas deben llevar sus correspondientes etiquetas."
   ],
   "metadata": {}
  },
  {
   "cell_type": "markdown",
   "source": [
    "### Pregunta 9. \n",
    "Seguir las siguientes instrucciones para generar las gráficas que se piden. En todos los puntos se debe de generar la gráfica que se pide. Por lo naturalez de las preguntas, pueden usar paquetes.\n",
    "1. Generar tres conjuntos de mil números aleatorios que digan una distribución normal. Cada conjunto de estar centrado en diferentes valores ($\\mu_{1}$, $\\mu_{2}$, $\\mu_{3}$) y con diferentes anchuras ($\\sigma_{1}$, $\\sigma_{2}$, $\\sigma_{3}$). Cada conjunto debe de ser guardado en una variable diferente.\n",
    "2. Hacer un histrograma donde se muestren las tres distribuciones correspondientes a los tres conjuntos de número aleatorios. Las ditribuciones deben de estar acomodadas de acuerdo a su anchura.\n",
    "3. Repetir el histograma del punto anterior y añadir líneas verticales que represente el valor correspondiente $\\mu_{n}$ en el cual se encuentran centradas las distribuciones.\n",
    "4. Hacer una gráfica de _scatter_ donde se muestren las tres diferentes distribuciones con un color diferente. Agregar una leyenda donde diga que color corresponde a que distribución.\n",
    "5. Hacer una gráfica que incluya todas las gráficas anteriores en una misma figura. Cada _subplot_ debe de tener su propio título, también la figura principal debe de tener su título correspondiente."
   ],
   "metadata": {}
  },
  {
   "cell_type": "markdown",
   "source": [
    "### Pregunta 10.\n",
    "Graficar las funciones de los problemas 16 y 17. Para el polinomio, ajustar la gráfica para que se vean las soluciones reales. Para la función trigonométrica, ajustar la gráfica para que se vea la solución dada en el problema 17.\n",
    "\n",
    "$$\n",
    "\\begin{align}\n",
    "    f(x) &= 230x^{4} + 18x^{3} + 9x^{2} - 221x - 9, \\tag{P. 16}\\\\\n",
    "    f(x) &= \\tan(\\pi x) - 6. \\tag{P. 17}\n",
    "\\end{align}\n",
    "$$"
   ],
   "metadata": {}
  },
  {
   "cell_type": "markdown",
   "source": [
    "### Pregunta 11.\n",
    "Sabemos que el sistema oscilante más simple que conocemos es una masa y un resorte. Aplicando la segunda ley de Newton $F = ma$ a la masa, podemos obtener las ecuaciones de movimiento del sistema:\n",
    "\n",
    "$$\n",
    "m\\dfrac{d^{2}x}{dt^{2}} + kx = 0,\n",
    "$$\n",
    "\n",
    "que puede reescribirse como:\n",
    "\n",
    "$$\n",
    "\\dfrac{d^{2}x}{dt^{2}} + \\omega_{0}^{2}x = 0,\n",
    "$$\n",
    "\n",
    "donde, $\\omega_{0} = \\sqrt{k/m}$ es la frecuencia natural de oscilación. Las soluciones a esta ecuación de movimiento son:\n",
    "\n",
    "$$\n",
    "x(t) = x_{m}\\cos(\\omega_{0}t + \\phi),\n",
    "$$\n",
    "\n",
    "donde, $x_{m}$ es la amplitud de oscilación y $\\phi$ es la constante de fase de la oscilación.\n",
    "\n",
    "1. Hacer una imagen que muestre la posición de tres diferentes objetos que sigan la ecuación antes descrita con frecuencias naturales de $\\omega_{0}$, $2\\omega_{0}$ y $3\\omega_{0}$. Suponer que todos los objetos tienen la misma amplitud de oscilación y la misma constante de fase.\n",
    "2. Suponer que tenemos un objeto que oscila de acuerdo a la ecuación de movimiento antes planteada. Con una frecuencia natural $\\omega_{0}$ y una constante de fase $\\phi$. Suponiendo que el sistema inicialmente está en reposo, pero desplazada una distancia $x_{m}$ del equilibrio, realizar una figura con tres _subplots_ donde se muestre: <br>\n",
    "    * La energía cinética\n",
    "    * La energía potencial\n",
    "    * La energía total\n",
    "Pueden utilizar cualquier paquete que necesiten, exceptuando aquellos que generen automáticamente las gráficas requeridas."
   ],
   "metadata": {}
  },
  {
   "cell_type": "markdown",
   "source": [
    "## Problemas _Find-root_"
   ],
   "metadata": {}
  },
  {
   "cell_type": "markdown",
   "source": [
    "### Pregunta 12. \n",
    "Encontrar las soluciones de las siguientes ecuaciones con uno de los tres métodos vistos en clase (indicar con que método están encontrando las soluciones). **Pueden usar paquetes**.\n",
    "1. $x - 2x - 5 = 0$ en $[1, 4]$.\n",
    "2. $x - \\cos x = 0$ en $[0, \\pi/2]$.\n",
    "3. $x + 3x - 1 = 0$ en $[-3, -2]$.\n",
    "4. $x - 0.8 - 0.2\\sin x = 0$ en $[0, \\pi/2]$."
   ],
   "metadata": {}
  },
  {
   "cell_type": "markdown",
   "source": [
    "### Pregunta 13.\n",
    "Encontrar las soluciones con una precisión de al menos $10^{-5}$ para las siguientes ecuaciones con cualquier método de los vistos en clase. **No pueden usar paquetes que resuelvan las ecuaciones, pueden usr el paquete _numpy_, pero no las rutinas de este para encontrar las soluciones.**\n",
    "1. $2x\\cos 2x - (x- 2)$ en $[2, 3]$ y en $[3, 4]$. \n",
    "2. $(x - 2) - \\ln x = 0$ en $[1, 2]$ y en $[e, 4]$.\n",
    "3. $e^{x} - 3x = 0$ en $[0, 1]$ y en $[3, 5]$.\n",
    "4. $\\sin x - e^{-x}$ en $[0, 1]$ y en $[6, 7]$. "
   ],
   "metadata": {}
  },
  {
   "cell_type": "markdown",
   "source": [
    "### Pregunta 14.\n",
    "Encontrar las cuatro soluciones de $4x\\cos(2x) - (x - 2) = 0$ en $[0, 8]$ con una precisión de al menos $10^{-5}$. Pueden usar paquetes siempre y cuando garanticen la precisión de alguna forma. Usar uno de los métodos vistos en clase."
   ],
   "metadata": {}
  },
  {
   "cell_type": "markdown",
   "source": [
    "### Pregunta 15.\n",
    "Encontrar todas las soluciones de $x + \\cos x = 0$ con una precisión de al menos $10^{-5}$. Pueden usar paquetes siempre y cuando garanticen las precisión de alguna forma. Usar uno de los métodos vistos en clase."
   ],
   "metadata": {}
  },
  {
   "cell_type": "markdown",
   "source": [
    "### Pregunta 16.\n",
    "El polinomio de cuarto grado\n",
    "\n",
    "$$\n",
    "f(x) = 230x^{4} + 18x^{3} + 9x^{2} - 221x - 9,\n",
    "$$\n",
    "\n",
    "tiene dos soluciones reales, una en $[-1, 0]$ y otra en $[0, 1]$. Calcular una aproximación de estas soluciones con una precisión de al menos $10^{-6}$ con dos de los tres métodos vistos en clase. Pueden usar paquetes siempre y cuando aseguren que están usando los métodos indicados."
   ],
   "metadata": {}
  },
  {
   "cell_type": "markdown",
   "source": [
    "### Pregunta 17.\n",
    "La función $f(x) = \\tan(\\pi x) - 6$ tiene una solución en $(1/\\pi)\\arctan 6 \\approx 0.447431543$. ¿Cuál de los tres métodos vistos en clase es mejor para encontrar la solución? ¿Por qué?. Pueden usar paquetes siempre y cuando asegure que están usando los métodos indicados."
   ],
   "metadata": {}
  }
 ],
 "metadata": {
  "interpreter": {
   "hash": "53812782fd976b5fa752fcdd1bedc684e4c293c94c623ed83c70b1ee7218af23"
  },
  "kernelspec": {
   "display_name": "Python 3 (ipykernel)",
   "language": "python",
   "name": "python3"
  },
  "language_info": {
   "codemirror_mode": {
    "name": "ipython",
    "version": 3
   },
   "file_extension": ".py",
   "mimetype": "text/x-python",
   "name": "python",
   "nbconvert_exporter": "python",
   "pygments_lexer": "ipython3",
   "version": "3.9.6"
  }
 },
 "nbformat": 4,
 "nbformat_minor": 5
}