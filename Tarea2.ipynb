{
 "cells": [
  {
   "cell_type": "markdown",
   "id": "cf9266ed",
   "metadata": {},
   "source": [
    "# Tarea 2: Métodos Numéricos y Algoritmos Computacionales\n",
    "\n",
    "**Integrantes:**\n",
    "* dsgg\n",
    "* López Merino Marcos\n",
    "* asdf"
   ]
  },
  {
   "cell_type": "markdown",
   "id": "0cca843b",
   "metadata": {},
   "source": [
    "## Problemas generales"
   ]
  },
  {
   "cell_type": "markdown",
   "id": "accc59c5",
   "metadata": {},
   "source": [
    "### Pregunta 1. \n",
    "Un carpintero está acomodando sus tablas que tiene en su taller. Por alguna extraña razón, quiere arreglarlas de las más pequeña a la más grande tal que cada tabla sea más grande que la anterior por exactamente $1$ unidad (arbitraria). Es posible que para cumplir su cometido, el carpintero necesite agregar tablas adicionales. Haz una función que calcule el número mínimo de tablas que el necesitará.\n",
    "\n",
    "#### Ejemplo\n",
    "Para un arreglo de tablas $tablas = [7, 3, 4, 9]$, el resultado de la función debería de ser $3$, ya que él necesitaría tablas de tamaños $5,\\, 6\\,\\text{y}\\, 8$.\n",
    "\n",
    "#### Reglas \n",
    "* No pueden usar paquetes.\n",
    "* Los elementos del arreglo de entrada solo serán números entero positivos.\n",
    "* El arreglo de entrada puede contener de $1$ a $10$ elementos.\n",
    "* Un elemento del arreglo de entrada puede medir de $0$ a $20$ unidades.\n",
    "* La salida de la función solo debe de ser un número entero."
   ]
  },
  {
   "cell_type": "code",
   "execution_count": 17,
   "id": "33578764",
   "metadata": {},
   "outputs": [],
   "source": [
    "def acomodo(tablas):\n",
    "    if 1 <= len(tablas) <= 10:\n",
    "        SortTablas = sorted(tablas)\n",
    "        NSortTablas = list(range(SortTablas[0], SortTablas[-1] + 1))\n",
    "        diff = len(NSortTablas) - len(SortTablas)\n",
    "        return diff\n",
    "    else:\n",
    "        print(\"Lista inválida\")\n",
    "\n",
    "# La restricción acerca de la unidades máximas puede ser ignorada, ya que el número máximo que acepta Python es:\n",
    "# 9223372036854775807.\n",
    "# Es decir, un número de 19 unidades."
   ]
  },
  {
   "cell_type": "code",
   "execution_count": 18,
   "id": "c251be92",
   "metadata": {},
   "outputs": [
    {
     "data": {
      "text/plain": [
       "3"
      ]
     },
     "execution_count": 18,
     "metadata": {},
     "output_type": "execute_result"
    }
   ],
   "source": [
    "acomodo([7, 3, 4, 9])"
   ]
  },
  {
   "cell_type": "markdown",
   "id": "36b788fe",
   "metadata": {},
   "source": [
    "### Pregunta 2.\n",
    "Dadas dos _strings_, hacer una función que encuentre el número de caractares en común.\n",
    "\n",
    "#### Ejemplo\n",
    "Sea $s1 = 'ccell'$ y $s2 = 'czlcc'$, la salida de la función debería ser $3$, ya que hay dos _c_ y una _l_ en común.\n",
    "\n",
    "#### Reglas\n",
    "* No pueden usar paquetes.\n",
    "* Las _strings_ de entrada solo contendran letras en minúsculas sin incluir la _ñ_.\n",
    "* Las _strings_ de entrada solo podrán tener de $1$ a $15$ caracteres.\n",
    "* La salida solo será un entero."
   ]
  },
  {
   "cell_type": "code",
   "execution_count": 36,
   "id": "a2af6214",
   "metadata": {},
   "outputs": [],
   "source": [
    "def equalchar(string1, string2):\n",
    "    if 1 <= len(string1) <= 15 and 1 <= len(string2) <= 15:\n",
    "        asciiletters = set(\"abcdefghijklmnopqrstuvwxyz\")\n",
    "        if all((i in asciiletters) for i in string1) and  all((i in asciiletters) for i in string2):\n",
    "            String2List = list(string2)\n",
    "            c = 0\n",
    "            for j in string1:\n",
    "                if j in String2List:\n",
    "                    c += 1\n",
    "                    String2List.remove(j)\n",
    "            return c \n",
    "\n",
    "        else:\n",
    "            print(\"String inválida.\")\n",
    "    else:\n",
    "        print(\"Número de caracteres inválidos.\")"
   ]
  },
  {
   "cell_type": "code",
   "execution_count": 37,
   "id": "7c122065",
   "metadata": {},
   "outputs": [
    {
     "data": {
      "text/plain": [
       "3"
      ]
     },
     "execution_count": 37,
     "metadata": {},
     "output_type": "execute_result"
    }
   ],
   "source": [
    "equalchar(\"ccell\", \"czlcc\")"
   ]
  },
  {
   "cell_type": "code",
   "execution_count": 38,
   "id": "3db8358f",
   "metadata": {},
   "outputs": [
    {
     "name": "stdout",
     "output_type": "stream",
     "text": [
      "String inválida.\n"
     ]
    }
   ],
   "source": [
    "equalchar(\"ñcell\", \"czlcc\")"
   ]
  },
  {
   "cell_type": "code",
   "execution_count": 39,
   "id": "5a45650c",
   "metadata": {},
   "outputs": [
    {
     "name": "stdout",
     "output_type": "stream",
     "text": [
      "Número de caracteres inválidos.\n"
     ]
    }
   ],
   "source": [
    "equalchar(\"abscdfcccellfive\", \"czlcc\")"
   ]
  },
  {
   "cell_type": "markdown",
   "id": "35d86259",
   "metadata": {},
   "source": [
    "### Pregunta 3. \n",
    "Cierto dueño superticioso de una cafetería aborda todos los días el transporte público para ir a su negocio (todo esto antes de la pandemia). Cada vez que aborda cierto transporte público, el hombre recibe un boleto con un número de serie. Él considera que tendrá un buen día si la suma de la primera mitad de los dígitos del número de serie es igual a la suma de los dígitos de la segunda mitad. Dado un número de serie $n$, hacer una función que le diga si tendrá un buen día o no.\n",
    "\n",
    "#### Ejemplo\n",
    "Si el número de series es $n = 2341$, entonces la función debería regresar _True_. Para el número de serie $n = 248028$ la función debería de regresar _False_.\n",
    "\n",
    "#### Reglas\n",
    "* No pueden usar paquetes.\n",
    "* El entero que se dará a la funcón será un número positivo con un número par de dígitos.\n",
    "* El entero de entrada podrá tomar un valor mínimo de $10$ y un valor máximo de $10^{6}$.\n",
    "* La salida del programa debe de ser un booleano: _True_ o _False_."
   ]
  },
  {
   "cell_type": "code",
   "execution_count": 24,
   "id": "3194d9c1",
   "metadata": {},
   "outputs": [],
   "source": [
    "def suerte(n):\n",
    "    if 10 <= n < 10 ** 6:\n",
    "        nList = list(map(int, str(n)))\n",
    "        if len(nList) % 2 == 0:\n",
    "            Half = len(nList) // 2\n",
    "            FirstHalf = nList[:Half]\n",
    "            SecondHalf = nList[Half:]\n",
    "            if sum(FirstHalf) == sum(SecondHalf):\n",
    "                return True\n",
    "            else:\n",
    "                return False \n",
    "        else:\n",
    "            print(f\"El número tiene {len(nList)} dígitos.\")\n",
    "    else: \n",
    "        print(\"El número es muy grande.\") \n",
    "\n",
    "\n",
    "\n",
    "# Utilizar funciones, en lugar de un bucle, es un poco más rápido.\n",
    "\n",
    "# Con [int(i) for i in str(n)]:\n",
    "# 1.27 µs ± 81 ns per loop (mean ± std. dev. of 7 runs, 1000000 loops each)\n",
    "\n",
    "# Con list(map(int, str(n))):\n",
    "# 1.04 µs ± 27.3 ns per loop (mean ± std. dev. of 7 runs, 1000000 loops each)"
   ]
  },
  {
   "cell_type": "code",
   "execution_count": 25,
   "id": "5de14c28",
   "metadata": {},
   "outputs": [
    {
     "data": {
      "text/plain": [
       "True"
      ]
     },
     "execution_count": 25,
     "metadata": {},
     "output_type": "execute_result"
    }
   ],
   "source": [
    "suerte(2341)"
   ]
  },
  {
   "cell_type": "code",
   "execution_count": 26,
   "id": "562728e2",
   "metadata": {},
   "outputs": [
    {
     "data": {
      "text/plain": [
       "False"
      ]
     },
     "execution_count": 26,
     "metadata": {},
     "output_type": "execute_result"
    }
   ],
   "source": [
    "suerte(248028)"
   ]
  },
  {
   "cell_type": "code",
   "execution_count": 27,
   "id": "6359dec4",
   "metadata": {},
   "outputs": [
    {
     "name": "stdout",
     "output_type": "stream",
     "text": [
      "El número tiene 5 dígitos.\n"
     ]
    }
   ],
   "source": [
    "suerte(12345)"
   ]
  },
  {
   "cell_type": "markdown",
   "id": "96bb9db0",
   "metadata": {},
   "source": [
    "### Pregunta 4.\n",
    "Una señora gusta de coleccionar tarros de galletas. Al organizar sus tarros por tamaño en vitrina de exhibición, se da cuenta que hay algunos lugares que no puede ocupar dado que la madera de esos entrepaños está en mal estado y sus tarros podrían caerse (dado que ha gasto mucho dinero en los tarros, no puede comprar un nuevo mueble). Haz una función que ordene los tarros sin que ocupen los entrepaños en mal estado.\n",
    "\n",
    "#### Ejemplo\n",
    "Para un arreglo de entrada $tarros = [-1, 15, 19, 17, -1, -1, 16, 18]$, la salida del programa debería de ser $tarros = [-1, 15, 16, 17, -1, -1, 18, 19]$.\n",
    "\n",
    "#### Reglas \n",
    "* No pueden usar paquetes.\n",
    "* Los entrepaños dañados son representados con un $-1$, por lo que esos elementos no se pueden mover de posición en el arreglo de entrada. Todos los demás números serán positivos y representarán la altura de los tarros de galletas en una unidad arbitraria.\n",
    "* Los tarros pueden medir de $0$ a $100$. Un cero representa que ahí no pondrá ningún tarro.\n",
    "* El arregl de entrada puede contener de $1$ a $100$ elementos.\n",
    "* La salida debe ser un arreglo con los $-1$ _intactos_ y los tarros acomodados por altura, del más chico al más grande."
   ]
  },
  {
   "cell_type": "markdown",
   "id": "4b66e8f0",
   "metadata": {},
   "source": [
    "### Pregunta 5 \n",
    "Dada una _string_, hacer una función que escriba al revés las palabras que estén dentro de paréntesis. Puede haber paréntesis dentro de paréntesis.\n",
    "\n",
    "#### Ejemplos\n",
    "* Para $'(cap)'$, la salida de la función debe de ser $'pac'$.\n",
    "* Para $'lol(cap)rap'$, la salida de la función debe de ser $lolpacrap$.\n",
    "* Para $'lol(cap)rap(tam)'$, la salida de la función debe de ser $'lolpacrapmat'$.\n",
    "* Para $'lol(cap(rap))tam'$, la salida de la función debe de ser $'lolrappactam'$. Esto se debe a que $'lol(cap(rap))tam'$ se transforma a $'lol(cappar)tam'$ y esto se transforma en $'lolrappactam'$.\n",
    "\n",
    "#### Reglas\n",
    "* No pueden usar paquetes.\n",
    "* La _string_ de entrada solo tendrá letras en minúsculas sin incluir la _ñ_.\n",
    "* Todos los paréntesis tendrán su pareja correspondiente.\n",
    "* La _string_ de entrada podrá estar vacía. Por el contrario, podrá contener hasta $50$ caracteres.\n",
    "* La salida de la función debe ser la _string_ transformada."
   ]
  },
  {
   "cell_type": "markdown",
   "id": "6bf54b49",
   "metadata": {},
   "source": [
    "### Pregunta 6\n",
    "Dada una _string_ que contiene espacios, hacer una función que sustituya los espacios por guiones medios.\n",
    "\n",
    "#### Ejemplo \n",
    "Dada la _string_ $s1 = \\text{'esto es una string'}$, la salida de la función debe de ser $\\text{'esto-es-una-string'}$.\n",
    "\n",
    "#### Reglas \n",
    "* No pueden usar paquetes.\n",
    "* La _string_ de entrada contendrá espacios y podrá contener de $1$ a $10$ palabras separadas por espacios.\n",
    "* La salida de la función debe de ser la string transformada."
   ]
  },
  {
   "cell_type": "code",
   "execution_count": 32,
   "id": "c8d8d6a9",
   "metadata": {},
   "outputs": [],
   "source": [
    "def reemplazo(string):\n",
    "    liststring = string.split()\n",
    "    if 1 <= len(liststring) <= 10:\n",
    "        newstring = \"-\".join(liststring)\n",
    "        return newstring\n",
    "    else:\n",
    "        print(\"La string supera el número de palabras.\")"
   ]
  },
  {
   "cell_type": "code",
   "execution_count": 33,
   "id": "1c4d4bdb",
   "metadata": {},
   "outputs": [
    {
     "data": {
      "text/plain": [
       "'esto-es-una-string'"
      ]
     },
     "execution_count": 33,
     "metadata": {},
     "output_type": "execute_result"
    }
   ],
   "source": [
    "reemplazo(\"esto es una string\")"
   ]
  },
  {
   "cell_type": "code",
   "execution_count": 34,
   "id": "8c077d99",
   "metadata": {},
   "outputs": [
    {
     "name": "stdout",
     "output_type": "stream",
     "text": [
      "La string supera el número de palabras.\n"
     ]
    }
   ],
   "source": [
    "reemplazo(\"El murciélago y la cigüeña tocaban el saxofón detrás del palenque de paja.\")"
   ]
  },
  {
   "cell_type": "markdown",
   "id": "89e07c64",
   "metadata": {},
   "source": [
    "### Pregunta 7.\n",
    "Dada una _string_, hacer una función que nos indique si contiene caracteres alfa-numéricos, caracteres alfabéticos, dígitos, minúsculas y mayúsculas.\n",
    "\n",
    "#### Ejemplo\n",
    "Para la _string_ $s1 = 'qA2'$, la salidad debe de ser: <br>\n",
    "_True_ <br>\n",
    "_True_ <br>\n",
    "_True_ <br>\n",
    "_True_ <br>\n",
    "_True_ \n",
    "\n",
    "#### Reglas\n",
    "* No pueden usar paquetes.\n",
    "* La _string_ de entrada puede contener cualquier símbolo alfanumérico así como símbolos especiales.\n",
    "* La _string_ de entrada puede ser vacía.\n",
    "* La _string_ de entrada puede contener hasta $1000$ caracteres.\n",
    "* La función no debe de regresar nada, pero si debe imprimir _True_ o _False_ de acuerdo a lo siguiente: <br>\n",
    "    * La primera línea debe indicar si en la _string_ de entrada hay caracteres alfanuméricos.\n",
    "    * La segunda línea debe indicar si en la _string_ de entrada hay caracteres alfabéticos.\n",
    "    * La tercera línea debe indicar si en la _string_ de entrada hay dígitos numéricos.\n",
    "    * La cuarta línea debe indicar si en la _string_ de entrada hay caracteres en minúscula.\n",
    "    * La quinta línea debe indicar si en la _string_ de entrada hay caracteres en mayúscula."
   ]
  },
  {
   "cell_type": "code",
   "execution_count": 40,
   "id": "5ec66fa1",
   "metadata": {},
   "outputs": [],
   "source": [
    "def characters(string):\n",
    "    if 0 <= len(string) <= 100:\n",
    "        if any(i.isalnum() for i in string):\n",
    "            print(True)\n",
    "        if any(i.isalpha() for i in string):\n",
    "            print(True)\n",
    "        if any(i.isdigit() for i in string):\n",
    "            print(True)\n",
    "        if any(i.isupper() for i in string):\n",
    "            print(True)\n",
    "        if any(i.islower() for i in string):\n",
    "            print(True)\n",
    "        # if not string:\n",
    "        #     print(\"String vacía.\")\n",
    "        if string == \"\":\n",
    "            print(\"String vacía.\")\n",
    "    else: \n",
    "        print(\"La string supera el máx. de caracteres.\")\n",
    "\n",
    "# The any() function returns True if any element of an iterable is True. If not, any() returns False.\n",
    "\n",
    "\n",
    "# El comando if not string puede causar confusiones, ya que muchas cosas evalúan a Falso (falsy) o Verdadero (truthy) en un contexto booleano.\n",
    "# Por ejemplo, \n",
    "# In: bool(\"\")\n",
    "# Out: False\n",
    "\n",
    "# In: bool(\"   \")\n",
    "# Out: True"
   ]
  },
  {
   "cell_type": "code",
   "execution_count": 41,
   "id": "33583dd5",
   "metadata": {},
   "outputs": [
    {
     "name": "stdout",
     "output_type": "stream",
     "text": [
      "True\n",
      "True\n",
      "True\n",
      "True\n",
      "True\n"
     ]
    }
   ],
   "source": [
    "characters(\"qA2\")"
   ]
  },
  {
   "cell_type": "code",
   "execution_count": 42,
   "id": "718a7e6e",
   "metadata": {},
   "outputs": [
    {
     "name": "stdout",
     "output_type": "stream",
     "text": [
      "String vacía.\n"
     ]
    }
   ],
   "source": [
    "characters(\"\")"
   ]
  },
  {
   "cell_type": "code",
   "execution_count": 44,
   "id": "7be58168",
   "metadata": {},
   "outputs": [],
   "source": [
    "characters(\"C[V.vKkSb}z24[ygxq{?ZtZNevz?e}b+:S.:vm,fS$%@W%Gn%Ch?r5SQdd.zJx23H[ZE%Px8FV@pK/a7y/Nt5]#}AwPZa,9d%unK.wrENBh.!A]xBaDtFnaz*RE.T_[tr9Q[@N2_C47UMi7k]()#TqJ6u[-$PTu8!nJ)_cGL2C$??k#P}u[U5+V5+jyW[?BYvU,m8u#hdJcVR;mLt(W,vWeJaa@SJp,;m@6RDv+B;y@)N7Lh{g++9p+HgU3**-M$dPA2ESu,Na3R6=vb8&&G-FXK5_in4P[jF$9Zq+S(nkP.A/RbkWi)$&tpVpemy)vyB{K}5;YXqQF8HLDWM&rv5L{mC:!Z}%]9U9pWJLYd=b#EhFuB)!}axmBYnSh/n,VkHU%dMN]Y+5P*6)??8x48)64k7xDcp8=bGr@At+v8@Y-FLmLE9iA9T/V[*uz7y]]yi%nt;dk6!*Qz3xWF7!VT44)y@aj_+##N&jNKLa$D:C]9trE98F+QAc,B_bV?HyaS!EBRv!}%u9]V;Zj=Aqbj;YwL%:qtrmwp@EH]g33w2NePZZW:Png;+LjNh?MtBD+c{7?_{ayQ+Lu3,=jEwHU3VYevbF2DReeEZ[J2*bYfZba:5#.c.u;YS68L_X,L!h-EC-$?;ij85EQD$JpJTF8E/-nppi8vP:w[M:b;9g:U.j*e/gN5am7k2N9f(Pb3;DgcN7cuZDRnUFQHCK@WY@WE/B(*tx.Qvde8W=x@2q@r{c:+K)-+nV9bhk;9}VLhA)BH(u&rW&2&;c##LfAiqpQDmH@v46TVf)bP#GWGp?uKZ&[,F(RM.vx_68LaFYTDRKzF_@2YMjyhcffGf5U,tP.j2:j}cmv6zXJgee%=)L7TC_)=aFz{tkKNf&jT,6jArew/8?:.26GZxx+[uXA{EihSdv8&Z5d5f;BMU(cDd9ndWnGNpqfLxafg@qiz+X[}uGtWE/4t$QDK;RPL%R4x7yxBBxC[eJau:g(TZ4i+%H)n\")"
   ]
  },
  {
   "cell_type": "markdown",
   "id": "f967b9bf",
   "metadata": {},
   "source": [
    "### Pregunta 8. \n",
    "Cierta alumna del curso quiere recompersarse a sí misma después de acabar la tarea 2 de MNyAC ordenando algo para cenar. Abre la única[<sup id=\"fn1-back\">1</sup>](#fn1)  aplicación de _delivery_ (ya que estamos en pandemia) y empieza a escoger lo que será su cena. En su restaurante favorito hay solamente siete platillos, cuyos precios son: $7$, $27$, $41$, $49$, $63$, $78$ y $108$ en una moneda arbitraria.\n",
    "Por suerte, nuestra querida alumna tiene tres cupones:\n",
    "* Cuando el precio del pedido alcance un total de $69$, ella recibirá un descuento de $15$.\n",
    "* Cuando el precio del pedido alcance un total de $89$, ella recibirá un descuento de $30$.\n",
    "* Cuando el precio del pedido alcance un total de $120$, ella recibirá un descuento de $50$.\n",
    "\n",
    "Pero, ella solo puede usar un cupón a la vez y cada cupón solo puede ser usado una vez. Desgraciadamente, la app siempre escoge el mejor cupón dependiendo de la orden. Por ejemplo, si el precio es de $300$, automáticamente tendrá que pagar solamente $250$. Si ella ordena $n$ platillos, tal que $P_{1}, P_{2}, P_{3}, \\cdots, P_{n}$, ella quiere saber cuánto gastará en su cena.<br>\n",
    "Hagamos una función que ayude a nuestra compañera a decidir que comida pedir. La alumna desea probar combinaciones antes de decidir, además ella desea hacer su programa interactivo, por lo que el único parámetro que debe de recibir la función será el número $C$ de combinaciones que ella quiere probar. Para cada caso a probar, la función debe de pedir dos cosas (en líneas diferentes):<br>\n",
    "1. El número $n$ de platillos, y,<br>\n",
    "2. que platillos ($P_{1}, P_{2}, P_{3}, \\cdots, P_{n}$) desea.\n",
    "\n",
    "La función no debe regresar nada, pero si debe imprimir, para cada caso, cuánto dinero gastaría la alumna.\n",
    "\n",
    "#### Ejemplo\n",
    "Si la función recibe $C = 5$, la entrada podría verse algo así:<br>\n",
    "$2$ <br>\n",
    "$2\\, 3$ <br>\n",
    "$3$ <br>\n",
    "$2\\, 3\\, 4$ <br>\n",
    "$6$ <br>\n",
    "$1\\, 1\\, 4\\, 5\\, 1\\, 4$ <br>\n",
    "$1$ <br>\n",
    "$1$ <br>\n",
    "$7$ <br>\n",
    "$7\\, 7\\, 7\\, 7\\, 7\\, 7 \\,7$ <br>\n",
    "Y la salida sería: <br>\n",
    "$68$ <br>\n",
    "$87$ <br>\n",
    "$132$ <br>\n",
    "$7$ <br>\n",
    "$706$ \n",
    "\n",
    "En este caso, se debe de usar la función _input()_ y, como casi todos los ejercicios de esta sección, no pueden usar paquetes.\n",
    "\n",
    "[<sup id=\"fn1\">1</sup>](#fn1-back) Solo hay una ya que hubo una guerra de apps de _delivery_ y al final todas se unieron."
   ]
  },
  {
   "cell_type": "markdown",
   "id": "5754c401",
   "metadata": {},
   "source": [
    "## Problemas de graficación\n",
    "\n",
    "#### Instrucciones:\n",
    "En esta sección, todas las gráficas deben llevar sus correspondientes etiquetas."
   ]
  },
  {
   "cell_type": "markdown",
   "id": "c5730081",
   "metadata": {},
   "source": [
    "### Pregunta 9. \n",
    "Seguir las siguientes instrucciones para generar las gráficas que se piden. En todos los puntos se debe de generar la gráfica que se pide. Por lo naturalez de las preguntas, pueden usar paquetes.\n",
    "1. Generar tres conjuntos de mil números aleatorios que digan una distribución normal. Cada conjunto de estar centrado en diferentes valores ($\\mu_{1}$, $\\mu_{2}$, $\\mu_{3}$) y con diferentes anchuras ($\\sigma_{1}$, $\\sigma_{2}$, $\\sigma_{3}$). Cada conjunto debe de ser guardado en una variable diferente.\n",
    "2. Hacer un histrograma donde se muestren las tres distribuciones correspondientes a los tres conjuntos de número aleatorios. Las ditribuciones deben de estar acomodadas de acuerdo a su anchura.\n",
    "3. Repetir el histograma del punto anterior y añadir líneas verticales que represente el valor correspondiente $\\mu_{n}$ en el cual se encuentran centradas las distribuciones.\n",
    "4. Hacer una gráfica de _scatter_ donde se muestren las tres diferentes distribuciones con un color diferente. Agregar una leyenda donde diga que color corresponde a que distribución.\n",
    "5. Hacer una gráfica que incluya todas las gráficas anteriores en una misma figura. Cada _subplot_ debe de tener su propio título, también la figura principal debe de tener su título correspondiente."
   ]
  },
  {
   "cell_type": "markdown",
   "id": "258cffcc",
   "metadata": {},
   "source": [
    "### Pregunta 10.\n",
    "Graficar las funciones de los problemas 16 y 17. Para el polinomio, ajustar la gráfica para que se vean las soluciones reales. Para la función trigonométrica, ajustar la gráfica para que se vea la solución dada en el problema 17.\n",
    "\n",
    "$$\n",
    "\\begin{align}\n",
    "    f(x) &= 230x^{4} + 18x^{3} + 9x^{2} - 221x - 9, \\tag{P. 16}\\\\\n",
    "    f(x) &= \\tan(\\pi x) - 6. \\tag{P. 17}\n",
    "\\end{align}\n",
    "$$"
   ]
  },
  {
   "cell_type": "markdown",
   "id": "4d6f8f2d",
   "metadata": {},
   "source": [
    "### Pregunta 11.\n",
    "Sabemos que el sistema oscilante más simple que conocemos es una masa y un resorte. Aplicando la segunda ley de Newton $F = ma$ a la masa, podemos obtener las ecuaciones de movimiento del sistema:\n",
    "\n",
    "$$\n",
    "m\\dfrac{d^{2}x}{dt^{2}} + kx = 0,\n",
    "$$\n",
    "\n",
    "que puede reescribirse como:\n",
    "\n",
    "$$\n",
    "\\dfrac{d^{2}x}{dt^{2}} + \\omega_{0}^{2}x = 0,\n",
    "$$\n",
    "\n",
    "donde, $\\omega_{0} = \\sqrt{k/m}$ es la frecuencia natural de oscilación. Las soluciones a esta ecuación de movimiento son:\n",
    "\n",
    "$$\n",
    "x(t) = x_{m}\\cos(\\omega_{0}t + \\phi),\n",
    "$$\n",
    "\n",
    "donde, $x_{m}$ es la amplitud de oscilación y $\\phi$ es la constante de fase de la oscilación.\n",
    "\n",
    "1. Hacer una imagen que muestre la posición de tres diferentes objetos que sigan la ecuación antes descrita con frecuencias naturales de $\\omega_{0}$, $2\\omega_{0}$ y $3\\omega_{0}$. Suponer que todos los objetos tienen la misma amplitud de oscilación y la misma constante de fase.\n",
    "2. Suponer que tenemos un objeto que oscila de acuerdo a la ecuación de movimiento antes planteada. Con una frecuencia natural $\\omega_{0}$ y una constante de fase $\\phi$. Suponiendo que el sistema inicialmente está en reposo, pero desplazada una distancia $x_{m}$ del equilibrio, realizar una figura con tres _subplots_ donde se muestre: <br>\n",
    "    * La energía cinética\n",
    "    * La energía potencial\n",
    "    * La energía total\n",
    "Pueden utilizar cualquier paquete que necesiten, exceptuando aquellos que generen automáticamente las gráficas requeridas."
   ]
  },
  {
   "cell_type": "markdown",
   "id": "43bb56b8",
   "metadata": {},
   "source": [
    "## Problemas _Find-root_"
   ]
  },
  {
   "cell_type": "markdown",
   "id": "4cb59abf",
   "metadata": {},
   "source": [
    "### Pregunta 12. \n",
    "Encontrar las soluciones de las siguientes ecuaciones con uno de los tres métodos vistos en clase (indicar con que método están encontrando las soluciones). **Pueden usar paquetes**.\n",
    "1. $x - 2x - 5 = 0$ en $[1, 4]$.\n",
    "2. $x - \\cos x = 0$ en $[0, \\pi/2]$.\n",
    "3. $x + 3x - 1 = 0$ en $[-3, -2]$.\n",
    "4. $x - 0.8 - 0.2\\sin x = 0$ en $[0, \\pi/2]$."
   ]
  },
  {
   "cell_type": "markdown",
   "id": "f34b846c",
   "metadata": {},
   "source": [
    "### Pregunta 13.\n",
    "Encontrar las soluciones con una precisión de al menos $10^{-5}$ para las siguientes ecuaciones con cualquier método de los vistos en clase. **No pueden usar paquetes que resuelvan las ecuaciones, pueden usr el paquete _numpy_, pero no las rutinas de este para encontrar las soluciones.**\n",
    "1. $2x\\cos 2x - (x- 2)$ en $[2, 3]$ y en $[3, 4]$. \n",
    "2. $(x - 2) - \\ln x = 0$ en $[1, 2]$ y en $[e, 4]$.\n",
    "3. $e^{x} - 3x = 0$ en $[0, 1]$ y en $[3, 5]$.\n",
    "4. $\\sin x - e^{-x}$ en $[0, 1]$ y en $[6, 7]$. "
   ]
  },
  {
   "cell_type": "markdown",
   "id": "6a308286",
   "metadata": {},
   "source": [
    "### Pregunta 14.\n",
    "Encontrar las cuatro soluciones de $4x\\cos(2x) - (x - 2) = 0$ en $[0, 8]$ con una precisión de al menos $10^{-5}$. Pueden usar paquetes siempre y cuando garanticen la precisión de alguna forma. Usar uno de los métodos vistos en clase."
   ]
  },
  {
   "cell_type": "markdown",
   "id": "5627078a",
   "metadata": {},
   "source": [
    "### Pregunta 15.\n",
    "Encontrar todas las soluciones de $x + \\cos x = 0$ con una precisión de al menos $10^{-5}$. Pueden usar paquetes siempre y cuando garanticen las precisión de alguna forma. Usar uno de los métodos vistos en clase."
   ]
  },
  {
   "cell_type": "markdown",
   "id": "df648422",
   "metadata": {},
   "source": [
    "### Pregunta 16.\n",
    "El polinomio de cuarto grado\n",
    "\n",
    "$$\n",
    "f(x) = 230x^{4} + 18x^{3} + 9x^{2} - 221x - 9,\n",
    "$$\n",
    "\n",
    "tiene dos soluciones reales, una en $[-1, 0]$ y otra en $[0, 1]$. Calcular una aproximación de estas soluciones con una precisión de al menos $10^{-6}$ con dos de los tres métodos vistos en clase. Pueden usar paquetes siempre y cuando aseguren que están usando los métodos indicados."
   ]
  },
  {
   "cell_type": "markdown",
   "id": "04ce62d0",
   "metadata": {},
   "source": [
    "### Pregunta 17.\n",
    "La función $f(x) = \\tan(\\pi x) - 6$ tiene una solución en $(1/\\pi)\\arctan 6 \\approx 0.447431543$. ¿Cuál de los tres métodos vistos en clase es mejor para encontrar la solución? ¿Por qué?. Pueden usar paquetes siempre y cuando asegure que están usando los métodos indicados."
   ]
  }
 ],
 "metadata": {
  "interpreter": {
   "hash": "53812782fd976b5fa752fcdd1bedc684e4c293c94c623ed83c70b1ee7218af23"
  },
  "kernelspec": {
   "display_name": "Python 3 (ipykernel)",
   "language": "python",
   "name": "python3"
  },
  "language_info": {
   "codemirror_mode": {
    "name": "ipython",
    "version": 3
   },
   "file_extension": ".py",
   "mimetype": "text/x-python",
   "name": "python",
   "nbconvert_exporter": "python",
   "pygments_lexer": "ipython3",
   "version": "3.9.6"
  }
 },
 "nbformat": 4,
 "nbformat_minor": 5
}
